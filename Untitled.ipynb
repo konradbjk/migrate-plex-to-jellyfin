{
 "cells": [
  {
   "cell_type": "code",
   "execution_count": 1,
   "id": "da3b9bf2-d353-4064-9b39-47500eba25dc",
   "metadata": {},
   "outputs": [],
   "source": [
    "from typing import List\n",
    "\n",
    "import requests\n",
    "import urllib3\n",
    "import click\n",
    "import re\n",
    "import sys\n",
    "\n",
    "from plexapi.server import PlexServer\n",
    "from jellyfin_client import JellyFinServer"
   ]
  },
  {
   "cell_type": "code",
   "execution_count": 2,
   "id": "f7017d51-ea75-4856-8549-88c2a97a0bc1",
   "metadata": {},
   "outputs": [],
   "source": [
    "class bcolors:\n",
    "    HEADER = '\\033[95m'\n",
    "    OKBLUE = '\\033[94m'\n",
    "    OKGREEN = '\\033[92m'\n",
    "    WARNING = '\\033[93m'\n",
    "    FAIL = '\\033[91m'\n",
    "    ENDC = '\\033[0m'\n",
    "    BOLD = '\\033[1m'\n",
    "    UNDERLINE = '\\033[4m'"
   ]
  },
  {
   "cell_type": "code",
   "execution_count": null,
   "id": "9cbee185-f654-4983-a6f3-f308d1a2c6b6",
   "metadata": {},
   "outputs": [],
   "source": [
    "@click.command()\n",
    "@click.option('--plex-url', required=True, help='Plex server url')\n",
    "@click.option('--plex-token', required=True, help='Plex token')\n",
    "@click.option('--jellyfin-url', help='Jellyfin server url')\n",
    "@click.option('--jellyfin-token', help='Jellyfin token')\n",
    "@click.option('--jellyfin-user', help='Jellyfin user')\n",
    "@click.option('--secure/--insecure', help='Verify SSL')\n",
    "@click.option('--debug/--no-debug', help='Print more output')\n",
    "@click.option('--no-skip/--skip', help='Skip when no match it found instead of exiting')"
   ]
  },
  {
   "cell_type": "code",
   "execution_count": 6,
   "id": "7e617e87-ddfc-46dd-a79c-a6f0317b81fe",
   "metadata": {},
   "outputs": [],
   "source": [
    "no_not_matched = 0\n",
    "no_matched = 0\n",
    "no_already_matched = 0"
   ]
  },
  {
   "cell_type": "code",
   "execution_count": 129,
   "id": "528bee4e-0c47-4c60-93e7-cb71670f5bf3",
   "metadata": {},
   "outputs": [],
   "source": [
    "plex_url = 'https://plex.example.com:32400'\n",
    "plex_token = 'TGA-s6xQEsNo1J8QUB2_'\n",
    "jellyfin_url = 'https://jellyfin.example.com'\n",
    "jellyfin_token = '5a2c8fb1932a41c79c47da497d2b4313'\n",
    "jellyfin_user = 'Konrad'\n",
    "secure = False\n",
    "debug = True"
   ]
  },
  {
   "cell_type": "code",
   "execution_count": 13,
   "id": "c20ffe17-2c53-4e8e-a6c0-5ac92e5a130b",
   "metadata": {},
   "outputs": [],
   "source": [
    "# Remove insecure request warnings\n",
    "if not secure:\n",
    "    urllib3.disable_warnings(urllib3.exceptions.InsecureRequestWarning)"
   ]
  },
  {
   "cell_type": "code",
   "execution_count": 15,
   "id": "189e3e39-e2ff-4082-85b4-0fc1e96ac17e",
   "metadata": {},
   "outputs": [],
   "source": [
    "# Setup sessions\n",
    "session = requests.Session()\n",
    "session.verify = secure\n",
    "plex = PlexServer(plex_url, plex_token, session=session)\n",
    "\n",
    "jellyfin = JellyFinServer(\n",
    "    url=jellyfin_url, api_key=jellyfin_token, session=session)\n"
   ]
  },
  {
   "cell_type": "markdown",
   "id": "aad0669c-ccb7-4c75-b8a4-e4e7ce4a3703",
   "metadata": {},
   "source": [
    "## Plex\n",
    "Your plex needs to have set TMDB as agent for Movies metadata and TVDB as agent for Series. Make sure your media is matched correctly with those agents.\n",
    "\n",
    "Videos: https://python-plexapi.readthedocs.io/en/latest/modules/video.html\n",
    "\n",
    "Movies: https://python-plexapi.readthedocs.io/en/latest/modules/video.html#plexapi.video.Movie\n",
    "\n",
    "GUID: https://python-plexapi.readthedocs.io/en/latest/modules/media.html#plexapi.media.Guid\n",
    "\n",
    "### Geting Movies\n",
    "Movies have either one or multiple guids (```movie.guid``` / ```movie.guids```). Usually, if there are guids, then the guid is using plex agent, which we cannot use for matching. However, if ```movie.guids``` is empty (and we have Tmdb as an agent), the the ```movie.guid``` is having tmdb/imdb as source of information. We can use those for matching in Jellyfin.\n",
    "Sample GUIDS\n",
    "```\n",
    "[<Guid:imdb://tt8106534>, <Guid:tmdb://509967>, <Guid:tvdb://16304>]\n",
    "```\n"
   ]
  },
  {
   "cell_type": "code",
   "execution_count": 170,
   "id": "20786b25-3b8d-453d-9412-64199948cdb2",
   "metadata": {},
   "outputs": [],
   "source": [
    "plex_movies = plex.library.section('Movies')"
   ]
  },
  {
   "cell_type": "code",
   "execution_count": 171,
   "id": "555509c4-69d1-459b-befc-98d3eb96fd24",
   "metadata": {
    "tags": []
   },
   "outputs": [],
   "source": [
    "watched_movies = []\n",
    "for m in plex_movies.search(unwatched=False):\n",
    "    guids = m.guids\n",
    "    if guids:\n",
    "        providers = []\n",
    "        for guid in guids:\n",
    "            match = guid.id.split('://')\n",
    "            provider = match[0].capitalize()\n",
    "            movie_id = match[1]\n",
    "            if provider == 'Tmdb':\n",
    "                #print(f'{m.title} -- {guid} -- {provider} -- {movie_id}')\n",
    "                watched_movies.append({'title':m.title, 'provider':provider, 'provider_id':movie_id})\n",
    "\n",
    "            \n",
    "    if not guids:\n",
    "        match = re.match('com\\.plexapp\\.agents\\.(.*):\\/\\/(.*)\\?', m.guid)\n",
    "\n",
    "        provider = match.group(1).replace('themoviedb', 'Tmdb').capitalize()\n",
    "        movie_id = match.group(2)# Jellyfin uses Imdb and Tvdb\n",
    "        watched_movies.append({'title':m.title, 'provider':provider, 'provider_id':movie_id})\n",
    "\n",
    "        #print(f'{m.title} -- {m.guid} -- {provider} -- {match.group(2)}')\n",
    "\n",
    "        \n",
    "#     info = _extract_provider(data=m.guid)\n",
    "#     print(f'{m.guid} -- {info}')\n",
    "\n",
    "    # for m in plex_movies.search(unwatched=False):\n",
    "    #     info = _extract_provider(data=m.guid)\n",
    "\n",
    "    #     if not info:\n",
    "    #         print(f\"{bcolors.WARNING}No provider match in {m.guid} for {m.title}{bcolors.ENDC}\")\n",
    "    #         if no_skip:\n",
    "    #             sys.exit(1)\n",
    "    #         else:\n",
    "    #             continue\n",
    "\n",
    "    #     info['title'] = m.title\n",
    "    #     plex_watched.append(info)\n",
    "\n",
    "    # Get all Plex watched episodes\n",
    "\n"
   ]
  },
  {
   "cell_type": "code",
   "execution_count": 172,
   "id": "7198b3e6-6102-4e5c-aa53-6f21048ee0ad",
   "metadata": {},
   "outputs": [
    {
     "data": {
      "text/plain": [
       "167"
      ]
     },
     "execution_count": 172,
     "metadata": {},
     "output_type": "execute_result"
    }
   ],
   "source": [
    "len(watched_movies)"
   ]
  },
  {
   "cell_type": "code",
   "execution_count": 186,
   "id": "5722ace1-dc6f-4abd-bce0-507e34071b6b",
   "metadata": {},
   "outputs": [
    {
     "ename": "KeyboardInterrupt",
     "evalue": "",
     "output_type": "error",
     "traceback": [
      "\u001b[0;31m---------------------------------------------------------------------------\u001b[0m",
      "\u001b[0;31mKeyboardInterrupt\u001b[0m                         Traceback (most recent call last)",
      "\u001b[0;32m<ipython-input-186-1a81c7c1e0b4>\u001b[0m in \u001b[0;36m<module>\u001b[0;34m\u001b[0m\n\u001b[0;32m----> 1\u001b[0;31m \u001b[0mplex_tvshows\u001b[0m \u001b[0;34m=\u001b[0m \u001b[0mplex\u001b[0m\u001b[0;34m.\u001b[0m\u001b[0mlibrary\u001b[0m\u001b[0;34m.\u001b[0m\u001b[0msection\u001b[0m\u001b[0;34m(\u001b[0m\u001b[0;34m'TV Shows'\u001b[0m\u001b[0;34m)\u001b[0m\u001b[0;34m\u001b[0m\u001b[0;34m\u001b[0m\u001b[0m\n\u001b[0m",
      "\u001b[0;32m~/opt/anaconda3/envs/myenv/lib/python3.9/site-packages/plexapi/library.py\u001b[0m in \u001b[0;36msection\u001b[0;34m(self, title)\u001b[0m\n\u001b[1;32m     54\u001b[0m                 \u001b[0mtitle\u001b[0m \u001b[0;34m(\u001b[0m\u001b[0mstr\u001b[0m\u001b[0;34m)\u001b[0m\u001b[0;34m:\u001b[0m \u001b[0mTitle\u001b[0m \u001b[0mof\u001b[0m \u001b[0mthe\u001b[0m \u001b[0msection\u001b[0m \u001b[0mto\u001b[0m \u001b[0;32mreturn\u001b[0m\u001b[0;34m.\u001b[0m\u001b[0;34m\u001b[0m\u001b[0;34m\u001b[0m\u001b[0m\n\u001b[1;32m     55\u001b[0m         \"\"\"\n\u001b[0;32m---> 56\u001b[0;31m         \u001b[0;32mfor\u001b[0m \u001b[0msection\u001b[0m \u001b[0;32min\u001b[0m \u001b[0mself\u001b[0m\u001b[0;34m.\u001b[0m\u001b[0msections\u001b[0m\u001b[0;34m(\u001b[0m\u001b[0;34m)\u001b[0m\u001b[0;34m:\u001b[0m\u001b[0;34m\u001b[0m\u001b[0;34m\u001b[0m\u001b[0m\n\u001b[0m\u001b[1;32m     57\u001b[0m             \u001b[0;32mif\u001b[0m \u001b[0msection\u001b[0m\u001b[0;34m.\u001b[0m\u001b[0mtitle\u001b[0m\u001b[0;34m.\u001b[0m\u001b[0mlower\u001b[0m\u001b[0;34m(\u001b[0m\u001b[0;34m)\u001b[0m \u001b[0;34m==\u001b[0m \u001b[0mtitle\u001b[0m\u001b[0;34m.\u001b[0m\u001b[0mlower\u001b[0m\u001b[0;34m(\u001b[0m\u001b[0;34m)\u001b[0m\u001b[0;34m:\u001b[0m\u001b[0;34m\u001b[0m\u001b[0;34m\u001b[0m\u001b[0m\n\u001b[1;32m     58\u001b[0m                 \u001b[0;32mreturn\u001b[0m \u001b[0msection\u001b[0m\u001b[0;34m\u001b[0m\u001b[0;34m\u001b[0m\u001b[0m\n",
      "\u001b[0;32m~/opt/anaconda3/envs/myenv/lib/python3.9/site-packages/plexapi/library.py\u001b[0m in \u001b[0;36msections\u001b[0;34m(self)\u001b[0m\n\u001b[1;32m     40\u001b[0m         \u001b[0mkey\u001b[0m \u001b[0;34m=\u001b[0m \u001b[0;34m'/library/sections'\u001b[0m\u001b[0;34m\u001b[0m\u001b[0;34m\u001b[0m\u001b[0m\n\u001b[1;32m     41\u001b[0m         \u001b[0msections\u001b[0m \u001b[0;34m=\u001b[0m \u001b[0;34m[\u001b[0m\u001b[0;34m]\u001b[0m\u001b[0;34m\u001b[0m\u001b[0;34m\u001b[0m\u001b[0m\n\u001b[0;32m---> 42\u001b[0;31m         \u001b[0;32mfor\u001b[0m \u001b[0melem\u001b[0m \u001b[0;32min\u001b[0m \u001b[0mself\u001b[0m\u001b[0;34m.\u001b[0m\u001b[0m_server\u001b[0m\u001b[0;34m.\u001b[0m\u001b[0mquery\u001b[0m\u001b[0;34m(\u001b[0m\u001b[0mkey\u001b[0m\u001b[0;34m)\u001b[0m\u001b[0;34m:\u001b[0m\u001b[0;34m\u001b[0m\u001b[0;34m\u001b[0m\u001b[0m\n\u001b[0m\u001b[1;32m     43\u001b[0m             \u001b[0;32mfor\u001b[0m \u001b[0mcls\u001b[0m \u001b[0;32min\u001b[0m \u001b[0;34m(\u001b[0m\u001b[0mMovieSection\u001b[0m\u001b[0;34m,\u001b[0m \u001b[0mShowSection\u001b[0m\u001b[0;34m,\u001b[0m \u001b[0mMusicSection\u001b[0m\u001b[0;34m,\u001b[0m \u001b[0mPhotoSection\u001b[0m\u001b[0;34m)\u001b[0m\u001b[0;34m:\u001b[0m\u001b[0;34m\u001b[0m\u001b[0;34m\u001b[0m\u001b[0m\n\u001b[1;32m     44\u001b[0m                 \u001b[0;32mif\u001b[0m \u001b[0melem\u001b[0m\u001b[0;34m.\u001b[0m\u001b[0mattrib\u001b[0m\u001b[0;34m.\u001b[0m\u001b[0mget\u001b[0m\u001b[0;34m(\u001b[0m\u001b[0;34m'type'\u001b[0m\u001b[0;34m)\u001b[0m \u001b[0;34m==\u001b[0m \u001b[0mcls\u001b[0m\u001b[0;34m.\u001b[0m\u001b[0mTYPE\u001b[0m\u001b[0;34m:\u001b[0m\u001b[0;34m\u001b[0m\u001b[0;34m\u001b[0m\u001b[0m\n",
      "\u001b[0;32m~/opt/anaconda3/envs/myenv/lib/python3.9/site-packages/plexapi/server.py\u001b[0m in \u001b[0;36mquery\u001b[0;34m(self, key, method, headers, timeout, **kwargs)\u001b[0m\n\u001b[1;32m    521\u001b[0m         \u001b[0mlog\u001b[0m\u001b[0;34m.\u001b[0m\u001b[0mdebug\u001b[0m\u001b[0;34m(\u001b[0m\u001b[0;34m'%s %s'\u001b[0m\u001b[0;34m,\u001b[0m \u001b[0mmethod\u001b[0m\u001b[0;34m.\u001b[0m\u001b[0m__name__\u001b[0m\u001b[0;34m.\u001b[0m\u001b[0mupper\u001b[0m\u001b[0;34m(\u001b[0m\u001b[0;34m)\u001b[0m\u001b[0;34m,\u001b[0m \u001b[0murl\u001b[0m\u001b[0;34m)\u001b[0m\u001b[0;34m\u001b[0m\u001b[0;34m\u001b[0m\u001b[0m\n\u001b[1;32m    522\u001b[0m         \u001b[0mheaders\u001b[0m \u001b[0;34m=\u001b[0m \u001b[0mself\u001b[0m\u001b[0;34m.\u001b[0m\u001b[0m_headers\u001b[0m\u001b[0;34m(\u001b[0m\u001b[0;34m**\u001b[0m\u001b[0mheaders\u001b[0m \u001b[0;32mor\u001b[0m \u001b[0;34m{\u001b[0m\u001b[0;34m}\u001b[0m\u001b[0;34m)\u001b[0m\u001b[0;34m\u001b[0m\u001b[0;34m\u001b[0m\u001b[0m\n\u001b[0;32m--> 523\u001b[0;31m         \u001b[0mresponse\u001b[0m \u001b[0;34m=\u001b[0m \u001b[0mmethod\u001b[0m\u001b[0;34m(\u001b[0m\u001b[0murl\u001b[0m\u001b[0;34m,\u001b[0m \u001b[0mheaders\u001b[0m\u001b[0;34m=\u001b[0m\u001b[0mheaders\u001b[0m\u001b[0;34m,\u001b[0m \u001b[0mtimeout\u001b[0m\u001b[0;34m=\u001b[0m\u001b[0mtimeout\u001b[0m\u001b[0;34m,\u001b[0m \u001b[0;34m**\u001b[0m\u001b[0mkwargs\u001b[0m\u001b[0;34m)\u001b[0m\u001b[0;34m\u001b[0m\u001b[0;34m\u001b[0m\u001b[0m\n\u001b[0m\u001b[1;32m    524\u001b[0m         \u001b[0;32mif\u001b[0m \u001b[0mresponse\u001b[0m\u001b[0;34m.\u001b[0m\u001b[0mstatus_code\u001b[0m \u001b[0;32mnot\u001b[0m \u001b[0;32min\u001b[0m \u001b[0;34m(\u001b[0m\u001b[0;36m200\u001b[0m\u001b[0;34m,\u001b[0m \u001b[0;36m201\u001b[0m\u001b[0;34m,\u001b[0m \u001b[0;36m204\u001b[0m\u001b[0;34m)\u001b[0m\u001b[0;34m:\u001b[0m\u001b[0;34m\u001b[0m\u001b[0;34m\u001b[0m\u001b[0m\n\u001b[1;32m    525\u001b[0m             \u001b[0mcodename\u001b[0m \u001b[0;34m=\u001b[0m \u001b[0mcodes\u001b[0m\u001b[0;34m.\u001b[0m\u001b[0mget\u001b[0m\u001b[0;34m(\u001b[0m\u001b[0mresponse\u001b[0m\u001b[0;34m.\u001b[0m\u001b[0mstatus_code\u001b[0m\u001b[0;34m)\u001b[0m\u001b[0;34m[\u001b[0m\u001b[0;36m0\u001b[0m\u001b[0;34m]\u001b[0m\u001b[0;34m\u001b[0m\u001b[0;34m\u001b[0m\u001b[0m\n",
      "\u001b[0;32m~/opt/anaconda3/envs/myenv/lib/python3.9/site-packages/requests/sessions.py\u001b[0m in \u001b[0;36mget\u001b[0;34m(self, url, **kwargs)\u001b[0m\n\u001b[1;32m    553\u001b[0m \u001b[0;34m\u001b[0m\u001b[0m\n\u001b[1;32m    554\u001b[0m         \u001b[0mkwargs\u001b[0m\u001b[0;34m.\u001b[0m\u001b[0msetdefault\u001b[0m\u001b[0;34m(\u001b[0m\u001b[0;34m'allow_redirects'\u001b[0m\u001b[0;34m,\u001b[0m \u001b[0;32mTrue\u001b[0m\u001b[0;34m)\u001b[0m\u001b[0;34m\u001b[0m\u001b[0;34m\u001b[0m\u001b[0m\n\u001b[0;32m--> 555\u001b[0;31m         \u001b[0;32mreturn\u001b[0m \u001b[0mself\u001b[0m\u001b[0;34m.\u001b[0m\u001b[0mrequest\u001b[0m\u001b[0;34m(\u001b[0m\u001b[0;34m'GET'\u001b[0m\u001b[0;34m,\u001b[0m \u001b[0murl\u001b[0m\u001b[0;34m,\u001b[0m \u001b[0;34m**\u001b[0m\u001b[0mkwargs\u001b[0m\u001b[0;34m)\u001b[0m\u001b[0;34m\u001b[0m\u001b[0;34m\u001b[0m\u001b[0m\n\u001b[0m\u001b[1;32m    556\u001b[0m \u001b[0;34m\u001b[0m\u001b[0m\n\u001b[1;32m    557\u001b[0m     \u001b[0;32mdef\u001b[0m \u001b[0moptions\u001b[0m\u001b[0;34m(\u001b[0m\u001b[0mself\u001b[0m\u001b[0;34m,\u001b[0m \u001b[0murl\u001b[0m\u001b[0;34m,\u001b[0m \u001b[0;34m**\u001b[0m\u001b[0mkwargs\u001b[0m\u001b[0;34m)\u001b[0m\u001b[0;34m:\u001b[0m\u001b[0;34m\u001b[0m\u001b[0;34m\u001b[0m\u001b[0m\n",
      "\u001b[0;32m~/opt/anaconda3/envs/myenv/lib/python3.9/site-packages/requests/sessions.py\u001b[0m in \u001b[0;36mrequest\u001b[0;34m(self, method, url, params, data, headers, cookies, files, auth, timeout, allow_redirects, proxies, hooks, stream, verify, cert, json)\u001b[0m\n\u001b[1;32m    540\u001b[0m         }\n\u001b[1;32m    541\u001b[0m         \u001b[0msend_kwargs\u001b[0m\u001b[0;34m.\u001b[0m\u001b[0mupdate\u001b[0m\u001b[0;34m(\u001b[0m\u001b[0msettings\u001b[0m\u001b[0;34m)\u001b[0m\u001b[0;34m\u001b[0m\u001b[0;34m\u001b[0m\u001b[0m\n\u001b[0;32m--> 542\u001b[0;31m         \u001b[0mresp\u001b[0m \u001b[0;34m=\u001b[0m \u001b[0mself\u001b[0m\u001b[0;34m.\u001b[0m\u001b[0msend\u001b[0m\u001b[0;34m(\u001b[0m\u001b[0mprep\u001b[0m\u001b[0;34m,\u001b[0m \u001b[0;34m**\u001b[0m\u001b[0msend_kwargs\u001b[0m\u001b[0;34m)\u001b[0m\u001b[0;34m\u001b[0m\u001b[0;34m\u001b[0m\u001b[0m\n\u001b[0m\u001b[1;32m    543\u001b[0m \u001b[0;34m\u001b[0m\u001b[0m\n\u001b[1;32m    544\u001b[0m         \u001b[0;32mreturn\u001b[0m \u001b[0mresp\u001b[0m\u001b[0;34m\u001b[0m\u001b[0;34m\u001b[0m\u001b[0m\n",
      "\u001b[0;32m~/opt/anaconda3/envs/myenv/lib/python3.9/site-packages/requests/sessions.py\u001b[0m in \u001b[0;36msend\u001b[0;34m(self, request, **kwargs)\u001b[0m\n\u001b[1;32m    653\u001b[0m \u001b[0;34m\u001b[0m\u001b[0m\n\u001b[1;32m    654\u001b[0m         \u001b[0;31m# Send the request\u001b[0m\u001b[0;34m\u001b[0m\u001b[0;34m\u001b[0m\u001b[0;34m\u001b[0m\u001b[0m\n\u001b[0;32m--> 655\u001b[0;31m         \u001b[0mr\u001b[0m \u001b[0;34m=\u001b[0m \u001b[0madapter\u001b[0m\u001b[0;34m.\u001b[0m\u001b[0msend\u001b[0m\u001b[0;34m(\u001b[0m\u001b[0mrequest\u001b[0m\u001b[0;34m,\u001b[0m \u001b[0;34m**\u001b[0m\u001b[0mkwargs\u001b[0m\u001b[0;34m)\u001b[0m\u001b[0;34m\u001b[0m\u001b[0;34m\u001b[0m\u001b[0m\n\u001b[0m\u001b[1;32m    656\u001b[0m \u001b[0;34m\u001b[0m\u001b[0m\n\u001b[1;32m    657\u001b[0m         \u001b[0;31m# Total elapsed time of the request (approximately)\u001b[0m\u001b[0;34m\u001b[0m\u001b[0;34m\u001b[0m\u001b[0;34m\u001b[0m\u001b[0m\n",
      "\u001b[0;32m~/opt/anaconda3/envs/myenv/lib/python3.9/site-packages/requests/adapters.py\u001b[0m in \u001b[0;36msend\u001b[0;34m(self, request, stream, timeout, verify, cert, proxies)\u001b[0m\n\u001b[1;32m    437\u001b[0m         \u001b[0;32mtry\u001b[0m\u001b[0;34m:\u001b[0m\u001b[0;34m\u001b[0m\u001b[0;34m\u001b[0m\u001b[0m\n\u001b[1;32m    438\u001b[0m             \u001b[0;32mif\u001b[0m \u001b[0;32mnot\u001b[0m \u001b[0mchunked\u001b[0m\u001b[0;34m:\u001b[0m\u001b[0;34m\u001b[0m\u001b[0;34m\u001b[0m\u001b[0m\n\u001b[0;32m--> 439\u001b[0;31m                 resp = conn.urlopen(\n\u001b[0m\u001b[1;32m    440\u001b[0m                     \u001b[0mmethod\u001b[0m\u001b[0;34m=\u001b[0m\u001b[0mrequest\u001b[0m\u001b[0;34m.\u001b[0m\u001b[0mmethod\u001b[0m\u001b[0;34m,\u001b[0m\u001b[0;34m\u001b[0m\u001b[0;34m\u001b[0m\u001b[0m\n\u001b[1;32m    441\u001b[0m                     \u001b[0murl\u001b[0m\u001b[0;34m=\u001b[0m\u001b[0murl\u001b[0m\u001b[0;34m,\u001b[0m\u001b[0;34m\u001b[0m\u001b[0;34m\u001b[0m\u001b[0m\n",
      "\u001b[0;32m~/opt/anaconda3/envs/myenv/lib/python3.9/site-packages/urllib3/connectionpool.py\u001b[0m in \u001b[0;36murlopen\u001b[0;34m(self, method, url, body, headers, retries, redirect, assert_same_host, timeout, pool_timeout, release_conn, chunked, body_pos, **response_kw)\u001b[0m\n\u001b[1;32m    697\u001b[0m \u001b[0;34m\u001b[0m\u001b[0m\n\u001b[1;32m    698\u001b[0m             \u001b[0;31m# Make the request on the httplib connection object.\u001b[0m\u001b[0;34m\u001b[0m\u001b[0;34m\u001b[0m\u001b[0;34m\u001b[0m\u001b[0m\n\u001b[0;32m--> 699\u001b[0;31m             httplib_response = self._make_request(\n\u001b[0m\u001b[1;32m    700\u001b[0m                 \u001b[0mconn\u001b[0m\u001b[0;34m,\u001b[0m\u001b[0;34m\u001b[0m\u001b[0;34m\u001b[0m\u001b[0m\n\u001b[1;32m    701\u001b[0m                 \u001b[0mmethod\u001b[0m\u001b[0;34m,\u001b[0m\u001b[0;34m\u001b[0m\u001b[0;34m\u001b[0m\u001b[0m\n",
      "\u001b[0;32m~/opt/anaconda3/envs/myenv/lib/python3.9/site-packages/urllib3/connectionpool.py\u001b[0m in \u001b[0;36m_make_request\u001b[0;34m(self, conn, method, url, timeout, chunked, **httplib_request_kw)\u001b[0m\n\u001b[1;32m    380\u001b[0m         \u001b[0;31m# Trigger any extra validation we need to do.\u001b[0m\u001b[0;34m\u001b[0m\u001b[0;34m\u001b[0m\u001b[0;34m\u001b[0m\u001b[0m\n\u001b[1;32m    381\u001b[0m         \u001b[0;32mtry\u001b[0m\u001b[0;34m:\u001b[0m\u001b[0;34m\u001b[0m\u001b[0;34m\u001b[0m\u001b[0m\n\u001b[0;32m--> 382\u001b[0;31m             \u001b[0mself\u001b[0m\u001b[0;34m.\u001b[0m\u001b[0m_validate_conn\u001b[0m\u001b[0;34m(\u001b[0m\u001b[0mconn\u001b[0m\u001b[0;34m)\u001b[0m\u001b[0;34m\u001b[0m\u001b[0;34m\u001b[0m\u001b[0m\n\u001b[0m\u001b[1;32m    383\u001b[0m         \u001b[0;32mexcept\u001b[0m \u001b[0;34m(\u001b[0m\u001b[0mSocketTimeout\u001b[0m\u001b[0;34m,\u001b[0m \u001b[0mBaseSSLError\u001b[0m\u001b[0;34m)\u001b[0m \u001b[0;32mas\u001b[0m \u001b[0me\u001b[0m\u001b[0;34m:\u001b[0m\u001b[0;34m\u001b[0m\u001b[0;34m\u001b[0m\u001b[0m\n\u001b[1;32m    384\u001b[0m             \u001b[0;31m# Py2 raises this as a BaseSSLError, Py3 raises it as socket timeout.\u001b[0m\u001b[0;34m\u001b[0m\u001b[0;34m\u001b[0m\u001b[0;34m\u001b[0m\u001b[0m\n",
      "\u001b[0;32m~/opt/anaconda3/envs/myenv/lib/python3.9/site-packages/urllib3/connectionpool.py\u001b[0m in \u001b[0;36m_validate_conn\u001b[0;34m(self, conn)\u001b[0m\n\u001b[1;32m   1008\u001b[0m         \u001b[0;31m# Force connect early to allow us to validate the connection.\u001b[0m\u001b[0;34m\u001b[0m\u001b[0;34m\u001b[0m\u001b[0;34m\u001b[0m\u001b[0m\n\u001b[1;32m   1009\u001b[0m         \u001b[0;32mif\u001b[0m \u001b[0;32mnot\u001b[0m \u001b[0mgetattr\u001b[0m\u001b[0;34m(\u001b[0m\u001b[0mconn\u001b[0m\u001b[0;34m,\u001b[0m \u001b[0;34m\"sock\"\u001b[0m\u001b[0;34m,\u001b[0m \u001b[0;32mNone\u001b[0m\u001b[0;34m)\u001b[0m\u001b[0;34m:\u001b[0m  \u001b[0;31m# AppEngine might not have  `.sock`\u001b[0m\u001b[0;34m\u001b[0m\u001b[0;34m\u001b[0m\u001b[0m\n\u001b[0;32m-> 1010\u001b[0;31m             \u001b[0mconn\u001b[0m\u001b[0;34m.\u001b[0m\u001b[0mconnect\u001b[0m\u001b[0;34m(\u001b[0m\u001b[0;34m)\u001b[0m\u001b[0;34m\u001b[0m\u001b[0;34m\u001b[0m\u001b[0m\n\u001b[0m\u001b[1;32m   1011\u001b[0m \u001b[0;34m\u001b[0m\u001b[0m\n\u001b[1;32m   1012\u001b[0m         \u001b[0;32mif\u001b[0m \u001b[0;32mnot\u001b[0m \u001b[0mconn\u001b[0m\u001b[0;34m.\u001b[0m\u001b[0mis_verified\u001b[0m\u001b[0;34m:\u001b[0m\u001b[0;34m\u001b[0m\u001b[0;34m\u001b[0m\u001b[0m\n",
      "\u001b[0;32m~/opt/anaconda3/envs/myenv/lib/python3.9/site-packages/urllib3/connection.py\u001b[0m in \u001b[0;36mconnect\u001b[0;34m(self)\u001b[0m\n\u001b[1;32m    351\u001b[0m     \u001b[0;32mdef\u001b[0m \u001b[0mconnect\u001b[0m\u001b[0;34m(\u001b[0m\u001b[0mself\u001b[0m\u001b[0;34m)\u001b[0m\u001b[0;34m:\u001b[0m\u001b[0;34m\u001b[0m\u001b[0;34m\u001b[0m\u001b[0m\n\u001b[1;32m    352\u001b[0m         \u001b[0;31m# Add certificate verification\u001b[0m\u001b[0;34m\u001b[0m\u001b[0;34m\u001b[0m\u001b[0;34m\u001b[0m\u001b[0m\n\u001b[0;32m--> 353\u001b[0;31m         \u001b[0mconn\u001b[0m \u001b[0;34m=\u001b[0m \u001b[0mself\u001b[0m\u001b[0;34m.\u001b[0m\u001b[0m_new_conn\u001b[0m\u001b[0;34m(\u001b[0m\u001b[0;34m)\u001b[0m\u001b[0;34m\u001b[0m\u001b[0;34m\u001b[0m\u001b[0m\n\u001b[0m\u001b[1;32m    354\u001b[0m         \u001b[0mhostname\u001b[0m \u001b[0;34m=\u001b[0m \u001b[0mself\u001b[0m\u001b[0;34m.\u001b[0m\u001b[0mhost\u001b[0m\u001b[0;34m\u001b[0m\u001b[0;34m\u001b[0m\u001b[0m\n\u001b[1;32m    355\u001b[0m         \u001b[0mtls_in_tls\u001b[0m \u001b[0;34m=\u001b[0m \u001b[0;32mFalse\u001b[0m\u001b[0;34m\u001b[0m\u001b[0;34m\u001b[0m\u001b[0m\n",
      "\u001b[0;32m~/opt/anaconda3/envs/myenv/lib/python3.9/site-packages/urllib3/connection.py\u001b[0m in \u001b[0;36m_new_conn\u001b[0;34m(self)\u001b[0m\n\u001b[1;32m    167\u001b[0m \u001b[0;34m\u001b[0m\u001b[0m\n\u001b[1;32m    168\u001b[0m         \u001b[0;32mtry\u001b[0m\u001b[0;34m:\u001b[0m\u001b[0;34m\u001b[0m\u001b[0;34m\u001b[0m\u001b[0m\n\u001b[0;32m--> 169\u001b[0;31m             conn = connection.create_connection(\n\u001b[0m\u001b[1;32m    170\u001b[0m                 \u001b[0;34m(\u001b[0m\u001b[0mself\u001b[0m\u001b[0;34m.\u001b[0m\u001b[0m_dns_host\u001b[0m\u001b[0;34m,\u001b[0m \u001b[0mself\u001b[0m\u001b[0;34m.\u001b[0m\u001b[0mport\u001b[0m\u001b[0;34m)\u001b[0m\u001b[0;34m,\u001b[0m \u001b[0mself\u001b[0m\u001b[0;34m.\u001b[0m\u001b[0mtimeout\u001b[0m\u001b[0;34m,\u001b[0m \u001b[0;34m**\u001b[0m\u001b[0mextra_kw\u001b[0m\u001b[0;34m\u001b[0m\u001b[0;34m\u001b[0m\u001b[0m\n\u001b[1;32m    171\u001b[0m             )\n",
      "\u001b[0;32m~/opt/anaconda3/envs/myenv/lib/python3.9/site-packages/urllib3/util/connection.py\u001b[0m in \u001b[0;36mcreate_connection\u001b[0;34m(address, timeout, source_address, socket_options)\u001b[0m\n\u001b[1;32m     84\u001b[0m             \u001b[0;32mif\u001b[0m \u001b[0msource_address\u001b[0m\u001b[0;34m:\u001b[0m\u001b[0;34m\u001b[0m\u001b[0;34m\u001b[0m\u001b[0m\n\u001b[1;32m     85\u001b[0m                 \u001b[0msock\u001b[0m\u001b[0;34m.\u001b[0m\u001b[0mbind\u001b[0m\u001b[0;34m(\u001b[0m\u001b[0msource_address\u001b[0m\u001b[0;34m)\u001b[0m\u001b[0;34m\u001b[0m\u001b[0;34m\u001b[0m\u001b[0m\n\u001b[0;32m---> 86\u001b[0;31m             \u001b[0msock\u001b[0m\u001b[0;34m.\u001b[0m\u001b[0mconnect\u001b[0m\u001b[0;34m(\u001b[0m\u001b[0msa\u001b[0m\u001b[0;34m)\u001b[0m\u001b[0;34m\u001b[0m\u001b[0;34m\u001b[0m\u001b[0m\n\u001b[0m\u001b[1;32m     87\u001b[0m             \u001b[0;32mreturn\u001b[0m \u001b[0msock\u001b[0m\u001b[0;34m\u001b[0m\u001b[0;34m\u001b[0m\u001b[0m\n\u001b[1;32m     88\u001b[0m \u001b[0;34m\u001b[0m\u001b[0m\n",
      "\u001b[0;31mKeyboardInterrupt\u001b[0m: "
     ]
    }
   ],
   "source": [
    "plex_tvshows = plex.library.section('TV Shows')"
   ]
  },
  {
   "cell_type": "code",
   "execution_count": 188,
   "id": "c32353c2-b0f0-4fca-8a38-81cf19e3c7c2",
   "metadata": {},
   "outputs": [
    {
     "ename": "AttributeError",
     "evalue": "'ShowSection' object has no attribute 'episodes'",
     "output_type": "error",
     "traceback": [
      "\u001b[0;31m---------------------------------------------------------------------------\u001b[0m",
      "\u001b[0;31mAttributeError\u001b[0m                            Traceback (most recent call last)",
      "\u001b[0;32m<ipython-input-188-65f45187e5cf>\u001b[0m in \u001b[0;36m<module>\u001b[0;34m\u001b[0m\n\u001b[0;32m----> 1\u001b[0;31m \u001b[0mlen\u001b[0m\u001b[0;34m(\u001b[0m\u001b[0mplex_tvshows\u001b[0m\u001b[0;34m.\u001b[0m\u001b[0mepisodes\u001b[0m\u001b[0;34m(\u001b[0m\u001b[0;34m)\u001b[0m\u001b[0;34m)\u001b[0m\u001b[0;34m\u001b[0m\u001b[0;34m\u001b[0m\u001b[0m\n\u001b[0m",
      "\u001b[0;31mAttributeError\u001b[0m: 'ShowSection' object has no attribute 'episodes'"
     ]
    }
   ],
   "source": [
    "len(plex_tvshows.episodes())"
   ]
  },
  {
   "cell_type": "code",
   "execution_count": 182,
   "id": "f6f57c6f-16f2-435b-a151-912faeba2478",
   "metadata": {},
   "outputs": [],
   "source": [
    "# Sample: com.plexapp.agents.thetvdb://333072/1/1?lang=en -- {'provider': 'Tvdb', 'item_id': '333072/1/1'}\n",
    "plex_watched_episodes = []\n",
    "for show in plex_tvshows.search(**{\"episode.unwatched\": False}):\n",
    "    for e in plex.library.section('TV Shows').get(show.title).episodes():\n",
    "        info = _extract_provider(data=e.guid)\n",
    "\n",
    "        # TODO: feels copy paste of above, move to function\n",
    "        if not info:\n",
    "            print(f\"{bcolors.WARNING}No provider match in {e.guid} for {show.title} {e.seasonEpisode.capitalize()} {bcolors.ENDC}\")\n",
    "            if no_skip:\n",
    "                sys.exit(1)\n",
    "            else:\n",
    "                continue\n",
    "\n",
    "        info['title'] = f\"{show.title} {e.seasonEpisode.capitalize()} {e.title}\"  # s01e03 > S01E03\n",
    "        plex_watched_episodes.append(info)\n"
   ]
  },
  {
   "cell_type": "code",
   "execution_count": 185,
   "id": "5738961b-320b-4e49-a289-aefee0c8cb4c",
   "metadata": {},
   "outputs": [
    {
     "name": "stdout",
     "output_type": "stream",
     "text": [
      "Watched Episodes: 3584\n"
     ]
    },
    {
     "data": {
      "text/plain": [
       "{'provider': 'Tvdb',\n",
       " 'item_id': '313969/1/10',\n",
       " 'title': 'The Young Pope S01e10 Episode 10'}"
      ]
     },
     "execution_count": 185,
     "metadata": {},
     "output_type": "execute_result"
    }
   ],
   "source": [
    "print(f'Watched Episodes: {len(plex_watched_episodes)}')\n",
    "plex_watched_episodes[-1]"
   ]
  },
  {
   "cell_type": "code",
   "execution_count": 193,
   "id": "8a585ca7-00ab-4885-9a7b-22ee400ac542",
   "metadata": {},
   "outputs": [
    {
     "ename": "AttributeError",
     "evalue": "'dict' object has no attribute 'str'",
     "output_type": "error",
     "traceback": [
      "\u001b[0;31m---------------------------------------------------------------------------\u001b[0m",
      "\u001b[0;31mAttributeError\u001b[0m                            Traceback (most recent call last)",
      "\u001b[0;32m<ipython-input-193-de5eba4cc385>\u001b[0m in \u001b[0;36m<module>\u001b[0;34m\u001b[0m\n\u001b[1;32m      1\u001b[0m \u001b[0;32mwith\u001b[0m \u001b[0mopen\u001b[0m\u001b[0;34m(\u001b[0m\u001b[0;34m'plex_watched_episodes.txt'\u001b[0m\u001b[0;34m,\u001b[0m\u001b[0;34m'w'\u001b[0m\u001b[0;34m)\u001b[0m \u001b[0;32mas\u001b[0m \u001b[0mf\u001b[0m\u001b[0;34m:\u001b[0m\u001b[0;34m\u001b[0m\u001b[0;34m\u001b[0m\u001b[0m\n\u001b[1;32m      2\u001b[0m     \u001b[0;32mfor\u001b[0m \u001b[0mepisode\u001b[0m \u001b[0;32min\u001b[0m \u001b[0mplex_watched_episodes\u001b[0m\u001b[0;34m:\u001b[0m\u001b[0;34m\u001b[0m\u001b[0;34m\u001b[0m\u001b[0m\n\u001b[0;32m----> 3\u001b[0;31m         \u001b[0mf\u001b[0m\u001b[0;34m.\u001b[0m\u001b[0mwrite\u001b[0m\u001b[0;34m(\u001b[0m\u001b[0mepisode\u001b[0m\u001b[0;34m.\u001b[0m\u001b[0mstr\u001b[0m\u001b[0;34m(\u001b[0m\u001b[0;34m)\u001b[0m\u001b[0;34m+\u001b[0m\u001b[0;34m'\\n'\u001b[0m\u001b[0;34m)\u001b[0m\u001b[0;34m\u001b[0m\u001b[0;34m\u001b[0m\u001b[0m\n\u001b[0m",
      "\u001b[0;31mAttributeError\u001b[0m: 'dict' object has no attribute 'str'"
     ]
    }
   ],
   "source": [
    "with open('plex_watched_episodes.txt','w') as f:\n",
    "    for episode in plex_watched_episodes:\n",
    "        f.write(episode+'\\n')"
   ]
  },
  {
   "cell_type": "code",
   "execution_count": null,
   "id": "97ef25c7-e9c5-4a8a-9d27-11e51aceed5e",
   "metadata": {},
   "outputs": [],
   "source": [
    "plex_tvshows = plex.library.section('TV Shows')\n",
    "for e in plex.library.section('TV Shows').get('Barry').episodes():\n",
    "        info = _extract_provider(data=e.guid)\n",
    "        print(f'{e.guid} -- {info}')"
   ]
  },
  {
   "cell_type": "markdown",
   "id": "764b2c44-d26c-4054-840c-531024526ba9",
   "metadata": {},
   "source": [
    "## Jellyfin"
   ]
  },
  {
   "cell_type": "code",
   "execution_count": 174,
   "id": "5df1cb44-d119-4693-9062-8e44fadbda60",
   "metadata": {},
   "outputs": [],
   "source": [
    "jf_uid = jellyfin.get_user_id(name=jellyfin_user)\n",
    "jf_library = jellyfin.get_all(user_id=jf_uid)"
   ]
  },
  {
   "cell_type": "code",
   "execution_count": 175,
   "id": "27257868-abf2-4238-8d51-a520f7a37dfd",
   "metadata": {},
   "outputs": [],
   "source": [
    "all_tv = []\n",
    "all_movies = []\n",
    "all_episodes = []\n",
    "for item in jf_library:\n",
    "    if item['Type'] == 'Series':\n",
    "        all_tv.append(item)\n",
    "    elif item['Type'] == 'Episode':\n",
    "        all_episodes.append(item)\n",
    "    elif item['Type'] == 'Movie':\n",
    "        all_movies.append(item)\n",
    "    else:\n",
    "        pass"
   ]
  },
  {
   "cell_type": "code",
   "execution_count": 45,
   "id": "6e046636-849a-4b0a-a342-1ace6a1999fd",
   "metadata": {},
   "outputs": [
    {
     "name": "stdout",
     "output_type": "stream",
     "text": [
      "121\n",
      "{'Name': 'Scooby-Doo and Scrappy-Doo', 'ServerId': 'cfe26d4b5a1e4b12bf43970e3537339f', 'Id': 'fee287b3f0d887c62719463eb19946b7', 'PremiereDate': '1979-09-22T00:00:00.0000000Z', 'OfficialRating': 'G', 'ChannelId': None, 'CommunityRating': 6.4, 'RunTimeTicks': 17999998976, 'ProductionYear': 1979, 'ProviderIds': {'Tmdb': '6005', 'Imdb': 'tt0083475', 'Tvdb': '78740'}, 'IsFolder': True, 'Type': 'Series', 'UserData': {'UnplayedItemCount': 168, 'PlaybackPositionTicks': 0, 'PlayCount': 0, 'IsFavorite': False, 'Played': False, 'Key': '78740'}, 'Status': 'Ended', 'AirDays': [], 'ImageTags': {'Primary': '6e38ecd9a9adca2c6ab2dce580510ee0'}, 'BackdropImageTags': ['37c4c248c90255090b1464f182fe2baa'], 'ImageBlurHashes': {'Backdrop': {'37c4c248c90255090b1464f182fe2baa': 'WNCaPYu4JCs:T1v~rR#AdsS5T0njIbS|R%NKrrs.L1OrShRni^wb'}, 'Primary': {'6e38ecd9a9adca2c6ab2dce580510ee0': 'dSE3-YuMOr,Wj7r^NIR.qev#WCS~S~nPnlaLF_T0r]RR'}}, 'LocationType': 'FileSystem', 'EndDate': '1982-12-18T00:00:00.0000000Z'}\n"
     ]
    }
   ],
   "source": [
    "print(len(all_tv))\n",
    "print(all_tv[-1])"
   ]
  },
  {
   "cell_type": "code",
   "execution_count": 46,
   "id": "7c622fba-70e3-45a5-98df-b393165258bd",
   "metadata": {},
   "outputs": [
    {
     "name": "stdout",
     "output_type": "stream",
     "text": [
      "476\n",
      "[{'Name': 'How to Train Your Dragon', 'ServerId': 'cfe26d4b5a1e4b12bf43970e3537339f', 'Id': 'fdf3ef736dd9c6a9d89159549d14e057', 'Container': 'mkv,webm', 'PremiereDate': '2010-03-10T00:00:00.0000000Z', 'CriticRating': 99, 'OfficialRating': 'PG', 'ChannelId': None, 'CommunityRating': 8.1, 'RunTimeTicks': 58710319104, 'ProductionYear': 2010, 'ProviderIds': {'Tmdb': '10191', 'Imdb': 'tt0892769', 'TmdbCollection': '89137'}, 'IsFolder': False, 'Type': 'Movie', 'UserData': {'PlaybackPositionTicks': 0, 'PlayCount': 0, 'IsFavorite': False, 'Played': False, 'Key': '10191'}, 'VideoType': 'VideoFile', 'ImageTags': {'Primary': '1a5c4fa6d2aa0bd67f94a24e3fc75219'}, 'BackdropImageTags': ['22882b0af8f9b83e9a1a86c512136988'], 'ImageBlurHashes': {'Backdrop': {'22882b0af8f9b83e9a1a86c512136988': 'WZGv6VI9Rj_4Mxt8E2V?IUIVxuRjWs%2ITM{x]WA?cRiM_xuRjae'}, 'Primary': {'1a5c4fa6d2aa0bd67f94a24e3fc75219': 'dM7eb@V@H;x_TdRMVrtmxsaiRjt6Vrj^oeV?D%oyxuNG'}}, 'LocationType': 'FileSystem', 'MediaType': 'Video'}, {'Name': 'Men in Black II', 'ServerId': 'cfe26d4b5a1e4b12bf43970e3537339f', 'Id': 'ffe46b690d3f504c034823f789a2fede', 'HasSubtitles': True, 'Container': 'mkv,webm', 'PremiereDate': '2002-07-03T00:00:00.0000000Z', 'CriticRating': 38, 'OfficialRating': 'PG-13', 'ChannelId': None, 'CommunityRating': 6.2, 'RunTimeTicks': 52883599360, 'ProductionYear': 2002, 'ProviderIds': {'Tmdb': '608', 'Imdb': 'tt0120912', 'TmdbCollection': '86055'}, 'IsFolder': False, 'Type': 'Movie', 'UserData': {'PlaybackPositionTicks': 0, 'PlayCount': 0, 'IsFavorite': False, 'Played': False, 'Key': '608'}, 'VideoType': 'VideoFile', 'ImageTags': {'Primary': '92eff96cf9e6a931c124884f821fbc53'}, 'BackdropImageTags': ['807ad164e9d973f6b835bb0495d617c8'], 'ImageBlurHashes': {'Backdrop': {'807ad164e9d973f6b835bb0495d617c8': 'WiP6~x%M_3%M_3_4%Mj[xuj]%Mxu~ps:IUfkM{Rj~qt7ayoLRjay'}, 'Primary': {'92eff96cf9e6a931c124884f821fbc53': 'd$F?31t7jtxu00RjaeRj?bofj[ofNGayofazM{ayWBWB'}}, 'LocationType': 'FileSystem', 'MediaType': 'Video'}]\n"
     ]
    }
   ],
   "source": [
    "print(len(all_movies))\n",
    "print(all_movies[-2:])"
   ]
  },
  {
   "cell_type": "code",
   "execution_count": 55,
   "id": "258e27c6-017e-4223-8bf0-187b5e37730c",
   "metadata": {},
   "outputs": [
    {
     "name": "stdout",
     "output_type": "stream",
     "text": [
      "5676\n",
      "{'Name': 'Descent', 'ServerId': 'cfe26d4b5a1e4b12bf43970e3537339f', 'Id': 'fff68b8e15cb7d71f840ce96210095c5', 'Container': 'mkv,webm', 'PremiereDate': '2008-04-17T00:00:00.0000000Z', 'OfficialRating': 'TV-14', 'ChannelId': None, 'CommunityRating': 9.2, 'RunTimeTicks': 25465669632, 'ProductionYear': 2008, 'IndexNumber': 16, 'ParentIndexNumber': 7, 'ProviderIds': {'Tvdb': '360904', 'Imdb': 'tt1200236'}, 'IsFolder': False, 'Type': 'Episode', 'ParentBackdropItemId': '3b8de4f860665e04eff0fe2f4931c3df', 'ParentBackdropImageTags': ['6000d516be8f17a99882153204b01ea8'], 'UserData': {'PlaybackPositionTicks': 0, 'PlayCount': 0, 'IsFavorite': False, 'Played': False, 'Key': '72218007016'}, 'SeriesName': 'Smallville', 'SeriesId': '3b8de4f860665e04eff0fe2f4931c3df', 'SeasonId': '6722e28f53b32023f339f4b19e90345f', 'SeriesPrimaryImageTag': '84ba4de571fed189362a1fadc14cfc6d', 'SeasonName': 'Season 7', 'VideoType': 'VideoFile', 'ImageTags': {'Primary': 'fa6bebefde88070bf016cf3a5e3314a2'}, 'BackdropImageTags': [], 'ImageBlurHashes': {'Primary': {'fa6bebefde88070bf016cf3a5e3314a2': 'W=KUTUDiWBt7ayxu~qM{M{ogofofxtj[M|j[juayxuWBWBfPf6of', '84ba4de571fed189362a1fadc14cfc6d': 'dHByBg-p5R9{G]bvNHNfE4Rk-V%2MJRj%1$%0wR%bHf4'}, 'Backdrop': {'6000d516be8f17a99882153204b01ea8': 'WA6R[a%g8_8_eT%M?^x]DOD%oz%MyDofMwM{o}tRo}WBWBs:t7Rj'}}, 'LocationType': 'FileSystem', 'MediaType': 'Video'}\n"
     ]
    }
   ],
   "source": [
    "print(len(all_episodes))\n",
    "print(all_episodes[-1])"
   ]
  },
  {
   "cell_type": "code",
   "execution_count": 135,
   "id": "d8072c00-6571-4459-b9d8-f691255513db",
   "metadata": {},
   "outputs": [
    {
     "data": {
      "text/plain": [
       "5"
      ]
     },
     "execution_count": 135,
     "metadata": {},
     "output_type": "execute_result"
    }
   ],
   "source": [
    "expectedResult = [d for d in all_movies if d['UserData']['Played']==True]\n",
    "len(expectedResult)"
   ]
  },
  {
   "cell_type": "code",
   "execution_count": 60,
   "id": "fb5a6c3e-3239-4b6b-b360-1b3559e95fc9",
   "metadata": {},
   "outputs": [
    {
     "data": {
      "text/plain": [
       "{'Name': 'Storkules in Duckburg!',\n",
       " 'ServerId': 'cfe26d4b5a1e4b12bf43970e3537339f',\n",
       " 'Id': 'fd1ec35e057005df5d6dc195e748b26b',\n",
       " 'HasSubtitles': True,\n",
       " 'Container': 'mkv,webm',\n",
       " 'PremiereDate': '2018-11-16T23:00:00.0000000Z',\n",
       " 'ChannelId': None,\n",
       " 'RunTimeTicks': 13521280000,\n",
       " 'ProductionYear': 2018,\n",
       " 'IndexNumber': 5,\n",
       " 'ParentIndexNumber': 2,\n",
       " 'ProviderIds': {},\n",
       " 'IsFolder': False,\n",
       " 'Type': 'Episode',\n",
       " 'ParentBackdropItemId': '375005e4b955905ed79b33fc176747cd',\n",
       " 'ParentBackdropImageTags': ['df631711ea0fc4df46dbd2c2d9028758'],\n",
       " 'UserData': {'PlaybackPositionTicks': 0,\n",
       "  'PlayCount': 1,\n",
       "  'IsFavorite': False,\n",
       "  'LastPlayedDate': '2021-05-04T16:04:44.0000000Z',\n",
       "  'Played': True,\n",
       "  'Key': '330134002005'},\n",
       " 'SeriesName': 'DuckTales',\n",
       " 'SeriesId': '375005e4b955905ed79b33fc176747cd',\n",
       " 'SeasonId': 'e6a242569ff7cd2b4d03a37c12cbe7f2',\n",
       " 'SeriesPrimaryImageTag': '3ade033cd72bd37768a90ce9567e8a85',\n",
       " 'SeasonName': 'Season 2',\n",
       " 'VideoType': 'VideoFile',\n",
       " 'ImageTags': {'Primary': '70fab1c1fc2a8606efbb8e3842b484c9'},\n",
       " 'BackdropImageTags': [],\n",
       " 'ImageBlurHashes': {'Primary': {'70fab1c1fc2a8606efbb8e3842b484c9': 'WhK23F-=M|t8oyoI.9M{R+WVe-js_4j[ofj@WAj[t8tR%LoeW=jZ',\n",
       "   '3ade033cd72bd37768a90ce9567e8a85': 'dFF#Ej}lM|%f?E%JxZwf55Ndt7Iq^jIXI@JCAJNyofrt'},\n",
       "  'Backdrop': {'df631711ea0fc4df46dbd2c2d9028758': 'WLIX+?8_tSnMIA?GOvrp?GD*awkW01IvSjIpV_V@-kWBShbwoNIA'}},\n",
       " 'LocationType': 'FileSystem',\n",
       " 'MediaType': 'Video'}"
      ]
     },
     "execution_count": 60,
     "metadata": {},
     "output_type": "execute_result"
    }
   ],
   "source": []
  },
  {
   "cell_type": "markdown",
   "id": "04f9af31-2e3e-4c75-b35c-5bb8a28594d7",
   "metadata": {},
   "source": [
    "## Migration\n",
    "\n",
    "While migrating movies, two were ot getting matched. Upon checking those manually in Jellyfin, I realized those were having incorrect metadata."
   ]
  },
  {
   "cell_type": "code",
   "execution_count": 176,
   "id": "9388f327-b874-485e-8988-36f3b17f5108",
   "metadata": {},
   "outputs": [
    {
     "name": "stdout",
     "output_type": "stream",
     "text": [
      "Marked I'm a Killer as watched\n",
      "Marked Silent Night as watched\n"
     ]
    }
   ],
   "source": [
    "no_not_matched = 0\n",
    "no_matched = 0\n",
    "no_already_matched = 0\n",
    "\n",
    "for watched in watched_movies:\n",
    "    search_result = _search(all_movies, watched)\n",
    "    if search_result and not search_result['UserData']['Played']:\n",
    "        no_matched+=1\n",
    "        jellyfin.mark_watched(\n",
    "            user_id=jf_uid, item_id=search_result['Id'])\n",
    "        #print(f\"{bcolors.OKGREEN}Marked {watched['title']} as watched{bcolors.ENDC}\")\n",
    "        print(f\"Marked {watched['title']} as watched\")\n",
    "\n",
    "    elif not search_result:\n",
    "        print(f\"No matches for {watched}\")\n",
    "        \n",
    "        #print(f\"{bcolors.WARNING}No matches for {watched['title']}{bcolors.ENDC}\")\n",
    "        no_not_matched+=1\n",
    "\n",
    "    else:\n",
    "        no_already_matched+=1\n",
    "        #if debug:\n",
    "            #print(f\"{watched['title']}\")\n",
    "            #print(f\"{bcolors.OKBLUE}{watched['title']}{bcolors.ENDC}\")"
   ]
  },
  {
   "cell_type": "code",
   "execution_count": 177,
   "id": "86f081c6-4e27-4df9-b001-a4a7cdd113dc",
   "metadata": {},
   "outputs": [
    {
     "data": {
      "text/plain": [
       "0"
      ]
     },
     "execution_count": 177,
     "metadata": {},
     "output_type": "execute_result"
    }
   ],
   "source": [
    "no_not_matched"
   ]
  },
  {
   "cell_type": "code",
   "execution_count": 48,
   "id": "dcd10f21-b7c0-4579-86eb-68e51fdb9ee5",
   "metadata": {},
   "outputs": [],
   "source": [
    "def migrate(plex_url: str, plex_token: str, jellyfin_url: str,\n",
    "            jellyfin_token: str, jellyfin_user: str,\n",
    "            secure: bool, debug: bool, no_skip: bool):\n",
    "\n",
    "\n",
    "    \n",
    "\n",
    "    \n",
    "    # Watched list from Plex\n",
    "    plex_watched = []\n",
    "\n",
    "    # Get all Plex watched movies\n",
    "    # TODO: remove harcoded library name\n",
    "    plex_movies = plex.library.section('Movies')\n",
    "    for m in plex_movies.search(unwatched=False)[:10]:\n",
    "        info = _extract_provider(data=m.guid)\n",
    "        print(f'{m.guid} -- {info}')\n",
    "\n",
    "    # for m in plex_movies.search(unwatched=False):\n",
    "    #     info = _extract_provider(data=m.guid)\n",
    "\n",
    "    #     if not info:\n",
    "    #         print(f\"{bcolors.WARNING}No provider match in {m.guid} for {m.title}{bcolors.ENDC}\")\n",
    "    #         if no_skip:\n",
    "    #             sys.exit(1)\n",
    "    #         else:\n",
    "    #             continue\n",
    "\n",
    "    #     info['title'] = m.title\n",
    "    #     plex_watched.append(info)\n",
    "\n",
    "    # Get all Plex watched episodes\n",
    "    plex_tvshows = plex.library.section('TV Shows')\n",
    "    for e in plex.library.section('TV Shows').get('Barry').episodes():\n",
    "            info = _extract_provider(data=e.guid)\n",
    "            print(f'{e.guid} -- {info}')\n",
    "\n",
    "    \n",
    "    # This gets all jellyfin movies since filtering on provider id isn't supported:\n",
    "    # https://github.com/jellyfin/jellyfin/issues/1990\n",
    "    jf_uid = jellyfin.get_user_id(name=jellyfin_user)\n",
    "    jf_library = jellyfin.get_all(user_id=jf_uid)\n",
    "    all_movies = jellyfin.get_all_movies(user_id=jf_uid)\n",
    "    print(all_movies[2])\n",
    "    #print(jf_library[2]['ProviderIds']['Tvdb'])\n",
    "    #print(plex_watched[2])\n",
    "\n",
    "    # for watched in plex_watched:\n",
    "    #     search_result = _search(jf_library, watched)\n",
    "    #     if search_result and not search_result['UserData']['Played']:\n",
    "    #         no_matched+=1\n",
    "    #         jellyfin.mark_watched(\n",
    "    #             user_id=jf_uid, item_id=search_result['Id'])\n",
    "    #         print(f\"{bcolors.OKGREEN}Marked {watched['title']} as watched{bcolors.ENDC}\")\n",
    "    #     elif not search_result:\n",
    "    #         #print(f\"{bcolors.WARNING}No matches for {watched['title']}{bcolors.ENDC}\")\n",
    "    #         no_not_matched+=1\n",
    "    #         if no_skip:\n",
    "    #             sys.exit(1)\n",
    "    #     else:\n",
    "    #         no_already_matched+=1\n",
    "    #         if debug:\n",
    "    #             print(f\"{bcolors.OKBLUE}{watched['title']}{bcolors.ENDC}\")\n",
    "\n",
    "    print(f\"{bcolors.OKGREEN}Succesfully migrated {len(plex_watched)} items{bcolors.ENDC}\")\n",
    "    print(f\"{bcolors.OKGREEN}Succesfully matched {no_matched} items{bcolors.ENDC}\")\n",
    "    print(f\"{bcolors.WARNING}Unsuccesfully matched {no_not_matched} items{bcolors.ENDC}\")"
   ]
  },
  {
   "cell_type": "code",
   "execution_count": 133,
   "id": "9c6a9338-6fa6-498a-ae33-1f3c9c7c2805",
   "metadata": {},
   "outputs": [],
   "source": [
    "def _search(lib_data: dict, item: dict) -> List:\n",
    "    \"\"\"Search for plex item in jellyfin library\n",
    "\n",
    "    Args:\n",
    "        lib_data (dict): jellyfin lib as returned by client\n",
    "        item (dict): Plex item\n",
    "\n",
    "    Returns:\n",
    "        List: [description]\n",
    "    \"\"\"\n",
    "    print(f\"{item['provider']} -- {item['provider_id']}\")\n",
    "    for data in lib_data:\n",
    "        if data['ProviderIds'].get(item['provider']) == item['provider_id']:\n",
    "            return data"
   ]
  },
  {
   "cell_type": "code",
   "execution_count": 4,
   "id": "9b039ab0-b247-47bc-979b-f57f993fd178",
   "metadata": {},
   "outputs": [],
   "source": [
    "def _search_tv(lib_data: dict, item: dict) -> List:\n",
    "    \"\"\"Search for plex item in jellyfin library\n",
    "\n",
    "    Args:\n",
    "        lib_data (dict): jellyfin lib as returned by client\n",
    "        item (dict): Plex item\n",
    "\n",
    "    Returns:\n",
    "        List: [description]\n",
    "    \"\"\"\n",
    "    for data in lib_data:\n",
    "        if data['ProviderIds'].get(item['Tvdb']) == item['item_id']:\n",
    "            return data\n"
   ]
  },
  {
   "cell_type": "code",
   "execution_count": 5,
   "id": "1188b138-b2ae-483b-b6e6-abb78d69e7fe",
   "metadata": {},
   "outputs": [],
   "source": [
    "def _extract_provider(data: dict) -> dict:\n",
    "    \"\"\"Extract Plex provider and return JellyFin compatible data\n",
    "\n",
    "    Args:\n",
    "        data (dict): plex episode or movie guid\n",
    "\n",
    "    Returns:\n",
    "        dict: provider in JellyFin format and item_id as identifier\n",
    "    \"\"\"\n",
    "    result = {}\n",
    "\n",
    "    # example: 'com.plexapp.agents.imdb://tt1068680?lang=en'\n",
    "    # example: 'com.plexapp.agents.thetvdb://248741/1/1?lang=en'\n",
    "    match = re.match('com\\.plexapp\\.agents\\.(.*):\\/\\/(.*)\\?', data)\n",
    "\n",
    "    if match:\n",
    "        #print( f\"Matched: {data} with {match}\")\n",
    "        result = {\n",
    "            'provider': match.group(1).replace('the', '').capitalize(),  # Jellyfin uses Imdb and Tvdb\n",
    "            'item_id': match.group(2)\n",
    "        }\n",
    "\n",
    "    if match is None:\n",
    "        print( f\"Unknown provider: {data}\")\n",
    "        return {\n",
    "            'provider': 'Tvdb',\n",
    "            'item_id': data\n",
    "        }\n",
    "\n",
    "    return result\n"
   ]
  },
  {
   "cell_type": "code",
   "execution_count": null,
   "id": "864fe63a-7f11-4921-a4ef-9abc1f0326a7",
   "metadata": {},
   "outputs": [],
   "source": []
  }
 ],
 "metadata": {
  "kernelspec": {
   "display_name": "Python 3",
   "language": "python",
   "name": "python3"
  },
  "language_info": {
   "codemirror_mode": {
    "name": "ipython",
    "version": 3
   },
   "file_extension": ".py",
   "mimetype": "text/x-python",
   "name": "python",
   "nbconvert_exporter": "python",
   "pygments_lexer": "ipython3",
   "version": "3.9.4"
  }
 },
 "nbformat": 4,
 "nbformat_minor": 5
}